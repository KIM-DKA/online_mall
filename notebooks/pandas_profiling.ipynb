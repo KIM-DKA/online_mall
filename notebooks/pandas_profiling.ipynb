{
 "cells": [
  {
   "cell_type": "markdown",
   "metadata": {},
   "source": [
    "- 판다스 프로파일링"
   ]
  },
  {
   "cell_type": "code",
   "execution_count": 8,
   "metadata": {},
   "outputs": [],
   "source": [
    "%reload_ext autoreload\n",
    "%autoreload 2\n",
    "import sys\n",
    "import os\n",
    "sys.path.append(os.path.dirname(os.getcwd()))\n",
    "\n",
    "import os\n",
    "import pandas as pd\n",
    "\n",
    "import unicodedata\n",
    "from datetime import datetime\n",
    "from src.module.root.postgre import PostgreSQL\n",
    "from src.module.root.datacontainer import DirectoryHandler\n",
    "from src.module.dataextractor import Extractor\n",
    "from src.module.dataformatter import Modifier\n",
    "import matplotlib.pyplot as plt\n",
    "import matplotlib.font_manager as fm\n"
   ]
  },
  {
   "cell_type": "code",
   "execution_count": 9,
   "metadata": {},
   "outputs": [],
   "source": [
    "from ydata_profiling import ProfileReport"
   ]
  },
  {
   "cell_type": "code",
   "execution_count": 10,
   "metadata": {},
   "outputs": [
    {
     "name": "stdout",
     "output_type": "stream",
     "text": [
      "/System/Library/Fonts/Supplemental/AppleGothic.ttf\n"
     ]
    }
   ],
   "source": [
    "import matplotlib.font_manager as fm\n",
    "\n",
    "# 시스템에 설치된 모든 폰트 경로 확인\n",
    "for font in fm.findSystemFonts(fontpaths=None, fontext='ttf'):\n",
    "    if 'AppleGothic' in font:\n",
    "        print(font)"
   ]
  },
  {
   "cell_type": "code",
   "execution_count": 6,
   "metadata": {},
   "outputs": [
    {
     "name": "stdout",
     "output_type": "stream",
     "text": [
      "Initialize Class\n",
      "Connected to PostgreSQL\n",
      "PostgreSQL connection is closed\n"
     ]
    },
    {
     "data": {
      "text/html": [
       "<div>\n",
       "<style scoped>\n",
       "    .dataframe tbody tr th:only-of-type {\n",
       "        vertical-align: middle;\n",
       "    }\n",
       "\n",
       "    .dataframe tbody tr th {\n",
       "        vertical-align: top;\n",
       "    }\n",
       "\n",
       "    .dataframe thead th {\n",
       "        text-align: right;\n",
       "    }\n",
       "</style>\n",
       "<table border=\"1\" class=\"dataframe\">\n",
       "  <thead>\n",
       "    <tr style=\"text-align: right;\">\n",
       "      <th></th>\n",
       "      <th>tablename</th>\n",
       "    </tr>\n",
       "  </thead>\n",
       "  <tbody>\n",
       "    <tr>\n",
       "      <th>0</th>\n",
       "      <td>order_keyword</td>\n",
       "    </tr>\n",
       "    <tr>\n",
       "      <th>1</th>\n",
       "      <td>search_keyword</td>\n",
       "    </tr>\n",
       "    <tr>\n",
       "      <th>2</th>\n",
       "      <td>member_info</td>\n",
       "    </tr>\n",
       "    <tr>\n",
       "      <th>3</th>\n",
       "      <td>event_info</td>\n",
       "    </tr>\n",
       "  </tbody>\n",
       "</table>\n",
       "</div>"
      ],
      "text/plain": [
       "        tablename\n",
       "0   order_keyword\n",
       "1  search_keyword\n",
       "2     member_info\n",
       "3      event_info"
      ]
     },
     "execution_count": 6,
     "metadata": {},
     "output_type": "execute_result"
    }
   ],
   "source": [
    "\n",
    "# 1. PostgreSQL에서 테이블 리스트 가져오기\n",
    "# 작업 디렉토리 찾기\n",
    "work_dir = DirectoryHandler.find_directory(\n",
    "    start_path=os.getcwd(),\n",
    "    target_directory_name='online_mall'\n",
    ")\n",
    "config_path = f'{work_dir}/private_configs.yaml'\n",
    "\n",
    "\n",
    "# PostgreSQL 연결\n",
    "postgre = PostgreSQL(config_file_path=config_path, request_url='local_postgre')\n",
    "postgre.connect()\n",
    "\n",
    "# 스키마 'online_mall'에서 테이블 목록 가져오는 쿼리\n",
    "query = \"\"\"\n",
    "    select tablename\n",
    "    from pg_catalog.pg_tables\n",
    "    where schemaname = 'online_mall' and tablename not in ('order_log','payment_log','column_master','table_master');\n",
    "\"\"\"\n",
    "table_list = postgre.read_data(query)\n",
    "postgre.close() \n",
    "\n",
    "table_list\n",
    "\n"
   ]
  },
  {
   "cell_type": "code",
   "execution_count": 13,
   "metadata": {},
   "outputs": [
    {
     "name": "stdout",
     "output_type": "stream",
     "text": [
      "Initialize Class\n",
      "Connected to PostgreSQL\n",
      "payment_log is running\n"
     ]
    },
    {
     "data": {
      "application/vnd.jupyter.widget-view+json": {
       "model_id": "3c22206353fe43a98012bf5f747b43d6",
       "version_major": 2,
       "version_minor": 0
      },
      "text/plain": [
       "Summarize dataset:   0%|          | 0/5 [00:00<?, ?it/s]"
      ]
     },
     "metadata": {},
     "output_type": "display_data"
    },
    {
     "ename": "KeyboardInterrupt",
     "evalue": "",
     "output_type": "error",
     "traceback": [
      "\u001b[0;31m---------------------------------------------------------------------------\u001b[0m",
      "\u001b[0;31mKeyboardInterrupt\u001b[0m                         Traceback (most recent call last)",
      "Cell \u001b[0;32mIn[13], line 37\u001b[0m\n\u001b[1;32m     34\u001b[0m     profile \u001b[39m=\u001b[39m ProfileReport(df, title\u001b[39m=\u001b[39m\u001b[39mf\u001b[39m\u001b[39m\"\u001b[39m\u001b[39m{\u001b[39;00mtable_name\u001b[39m}\u001b[39;00m\u001b[39m Profiling Report\u001b[39m\u001b[39m\"\u001b[39m, explorative\u001b[39m=\u001b[39m\u001b[39mTrue\u001b[39;00m, progress_bar\u001b[39m=\u001b[39m\u001b[39mTrue\u001b[39;00m)\n\u001b[1;32m     36\u001b[0m     \u001b[39m# 4. HTML 파일로 저장\u001b[39;00m\n\u001b[0;32m---> 37\u001b[0m     profile\u001b[39m.\u001b[39;49mto_file(\u001b[39mf\u001b[39;49m\u001b[39m\"\u001b[39;49m\u001b[39m{\u001b[39;49;00moutput_dir\u001b[39m}\u001b[39;49;00m\u001b[39m/\u001b[39;49m\u001b[39m{\u001b[39;49;00mtable_name\u001b[39m}\u001b[39;49;00m\u001b[39m_profiling_report.html\u001b[39;49m\u001b[39m\"\u001b[39;49m)\n\u001b[1;32m     39\u001b[0m \u001b[39m# PostgreSQL 연결 종료\u001b[39;00m\n\u001b[1;32m     40\u001b[0m postgre\u001b[39m.\u001b[39mclose()\n",
      "File \u001b[0;32m~/miniconda3/envs/ocean_env/lib/python3.8/site-packages/ydata_profiling/profile_report.py:355\u001b[0m, in \u001b[0;36mProfileReport.to_file\u001b[0;34m(self, output_file, silent)\u001b[0m\n\u001b[1;32m    352\u001b[0m         \u001b[39mself\u001b[39m\u001b[39m.\u001b[39mconfig\u001b[39m.\u001b[39mhtml\u001b[39m.\u001b[39massets_prefix \u001b[39m=\u001b[39m \u001b[39mstr\u001b[39m(output_file\u001b[39m.\u001b[39mstem) \u001b[39m+\u001b[39m \u001b[39m\"\u001b[39m\u001b[39m_assets\u001b[39m\u001b[39m\"\u001b[39m\n\u001b[1;32m    353\u001b[0m     create_html_assets(\u001b[39mself\u001b[39m\u001b[39m.\u001b[39mconfig, output_file)\n\u001b[0;32m--> 355\u001b[0m data \u001b[39m=\u001b[39m \u001b[39mself\u001b[39m\u001b[39m.\u001b[39mto_html()\n\u001b[1;32m    357\u001b[0m \u001b[39mif\u001b[39;00m output_file\u001b[39m.\u001b[39msuffix \u001b[39m!=\u001b[39m \u001b[39m\"\u001b[39m\u001b[39m.html\u001b[39m\u001b[39m\"\u001b[39m:\n\u001b[1;32m    358\u001b[0m     suffix \u001b[39m=\u001b[39m output_file\u001b[39m.\u001b[39msuffix\n",
      "File \u001b[0;32m~/miniconda3/envs/ocean_env/lib/python3.8/site-packages/ydata_profiling/profile_report.py:470\u001b[0m, in \u001b[0;36mProfileReport.to_html\u001b[0;34m(self)\u001b[0m\n\u001b[1;32m    462\u001b[0m \u001b[39mdef\u001b[39;00m \u001b[39mto_html\u001b[39m(\u001b[39mself\u001b[39m) \u001b[39m-\u001b[39m\u001b[39m>\u001b[39m \u001b[39mstr\u001b[39m:\n\u001b[1;32m    463\u001b[0m \u001b[39m    \u001b[39m\u001b[39m\"\"\"Generate and return complete template as lengthy string\u001b[39;00m\n\u001b[1;32m    464\u001b[0m \u001b[39m        for using with frameworks.\u001b[39;00m\n\u001b[1;32m    465\u001b[0m \n\u001b[0;32m   (...)\u001b[0m\n\u001b[1;32m    468\u001b[0m \n\u001b[1;32m    469\u001b[0m \u001b[39m    \"\"\"\u001b[39;00m\n\u001b[0;32m--> 470\u001b[0m     \u001b[39mreturn\u001b[39;00m \u001b[39mself\u001b[39m\u001b[39m.\u001b[39mhtml\n",
      "File \u001b[0;32m~/miniconda3/envs/ocean_env/lib/python3.8/site-packages/ydata_profiling/profile_report.py:277\u001b[0m, in \u001b[0;36mProfileReport.html\u001b[0;34m(self)\u001b[0m\n\u001b[1;32m    274\u001b[0m \u001b[39m@property\u001b[39m\n\u001b[1;32m    275\u001b[0m \u001b[39mdef\u001b[39;00m \u001b[39mhtml\u001b[39m(\u001b[39mself\u001b[39m) \u001b[39m-\u001b[39m\u001b[39m>\u001b[39m \u001b[39mstr\u001b[39m:\n\u001b[1;32m    276\u001b[0m     \u001b[39mif\u001b[39;00m \u001b[39mself\u001b[39m\u001b[39m.\u001b[39m_html \u001b[39mis\u001b[39;00m \u001b[39mNone\u001b[39;00m:\n\u001b[0;32m--> 277\u001b[0m         \u001b[39mself\u001b[39m\u001b[39m.\u001b[39m_html \u001b[39m=\u001b[39m \u001b[39mself\u001b[39m\u001b[39m.\u001b[39m_render_html()\n\u001b[1;32m    278\u001b[0m     \u001b[39mreturn\u001b[39;00m \u001b[39mself\u001b[39m\u001b[39m.\u001b[39m_html\n",
      "File \u001b[0;32m~/miniconda3/envs/ocean_env/lib/python3.8/site-packages/ydata_profiling/profile_report.py:385\u001b[0m, in \u001b[0;36mProfileReport._render_html\u001b[0;34m(self)\u001b[0m\n\u001b[1;32m    382\u001b[0m \u001b[39mdef\u001b[39;00m \u001b[39m_render_html\u001b[39m(\u001b[39mself\u001b[39m) \u001b[39m-\u001b[39m\u001b[39m>\u001b[39m \u001b[39mstr\u001b[39m:\n\u001b[1;32m    383\u001b[0m     \u001b[39mfrom\u001b[39;00m \u001b[39mydata_profiling\u001b[39;00m\u001b[39m.\u001b[39;00m\u001b[39mreport\u001b[39;00m\u001b[39m.\u001b[39;00m\u001b[39mpresentation\u001b[39;00m\u001b[39m.\u001b[39;00m\u001b[39mflavours\u001b[39;00m \u001b[39mimport\u001b[39;00m HTMLReport\n\u001b[0;32m--> 385\u001b[0m     report \u001b[39m=\u001b[39m \u001b[39mself\u001b[39m\u001b[39m.\u001b[39mreport\n\u001b[1;32m    387\u001b[0m     \u001b[39mwith\u001b[39;00m tqdm(\n\u001b[1;32m    388\u001b[0m         total\u001b[39m=\u001b[39m\u001b[39m1\u001b[39m, desc\u001b[39m=\u001b[39m\u001b[39m\"\u001b[39m\u001b[39mRender HTML\u001b[39m\u001b[39m\"\u001b[39m, disable\u001b[39m=\u001b[39m\u001b[39mnot\u001b[39;00m \u001b[39mself\u001b[39m\u001b[39m.\u001b[39mconfig\u001b[39m.\u001b[39mprogress_bar\n\u001b[1;32m    389\u001b[0m     ) \u001b[39mas\u001b[39;00m pbar:\n\u001b[1;32m    390\u001b[0m         html \u001b[39m=\u001b[39m HTMLReport(copy\u001b[39m.\u001b[39mdeepcopy(report))\u001b[39m.\u001b[39mrender(\n\u001b[1;32m    391\u001b[0m             nav\u001b[39m=\u001b[39m\u001b[39mself\u001b[39m\u001b[39m.\u001b[39mconfig\u001b[39m.\u001b[39mhtml\u001b[39m.\u001b[39mnavbar_show,\n\u001b[1;32m    392\u001b[0m             offline\u001b[39m=\u001b[39m\u001b[39mself\u001b[39m\u001b[39m.\u001b[39mconfig\u001b[39m.\u001b[39mhtml\u001b[39m.\u001b[39muse_local_assets,\n\u001b[0;32m   (...)\u001b[0m\n\u001b[1;32m    400\u001b[0m             version\u001b[39m=\u001b[39m\u001b[39mself\u001b[39m\u001b[39m.\u001b[39mdescription_set\u001b[39m.\u001b[39mpackage[\u001b[39m\"\u001b[39m\u001b[39mydata_profiling_version\u001b[39m\u001b[39m\"\u001b[39m],\n\u001b[1;32m    401\u001b[0m         )\n",
      "File \u001b[0;32m~/miniconda3/envs/ocean_env/lib/python3.8/site-packages/ydata_profiling/profile_report.py:271\u001b[0m, in \u001b[0;36mProfileReport.report\u001b[0;34m(self)\u001b[0m\n\u001b[1;32m    268\u001b[0m \u001b[39m@property\u001b[39m\n\u001b[1;32m    269\u001b[0m \u001b[39mdef\u001b[39;00m \u001b[39mreport\u001b[39m(\u001b[39mself\u001b[39m) \u001b[39m-\u001b[39m\u001b[39m>\u001b[39m Root:\n\u001b[1;32m    270\u001b[0m     \u001b[39mif\u001b[39;00m \u001b[39mself\u001b[39m\u001b[39m.\u001b[39m_report \u001b[39mis\u001b[39;00m \u001b[39mNone\u001b[39;00m:\n\u001b[0;32m--> 271\u001b[0m         \u001b[39mself\u001b[39m\u001b[39m.\u001b[39m_report \u001b[39m=\u001b[39m get_report_structure(\u001b[39mself\u001b[39m\u001b[39m.\u001b[39mconfig, \u001b[39mself\u001b[39m\u001b[39m.\u001b[39mdescription_set)\n\u001b[1;32m    272\u001b[0m     \u001b[39mreturn\u001b[39;00m \u001b[39mself\u001b[39m\u001b[39m.\u001b[39m_report\n",
      "File \u001b[0;32m~/miniconda3/envs/ocean_env/lib/python3.8/site-packages/ydata_profiling/profile_report.py:253\u001b[0m, in \u001b[0;36mProfileReport.description_set\u001b[0;34m(self)\u001b[0m\n\u001b[1;32m    250\u001b[0m \u001b[39m@property\u001b[39m\n\u001b[1;32m    251\u001b[0m \u001b[39mdef\u001b[39;00m \u001b[39mdescription_set\u001b[39m(\u001b[39mself\u001b[39m) \u001b[39m-\u001b[39m\u001b[39m>\u001b[39m BaseDescription:\n\u001b[1;32m    252\u001b[0m     \u001b[39mif\u001b[39;00m \u001b[39mself\u001b[39m\u001b[39m.\u001b[39m_description_set \u001b[39mis\u001b[39;00m \u001b[39mNone\u001b[39;00m:\n\u001b[0;32m--> 253\u001b[0m         \u001b[39mself\u001b[39m\u001b[39m.\u001b[39m_description_set \u001b[39m=\u001b[39m describe_df(\n\u001b[1;32m    254\u001b[0m             \u001b[39mself\u001b[39m\u001b[39m.\u001b[39mconfig,\n\u001b[1;32m    255\u001b[0m             \u001b[39mself\u001b[39m\u001b[39m.\u001b[39mdf,\n\u001b[1;32m    256\u001b[0m             \u001b[39mself\u001b[39m\u001b[39m.\u001b[39msummarizer,\n\u001b[1;32m    257\u001b[0m             \u001b[39mself\u001b[39m\u001b[39m.\u001b[39mtypeset,\n\u001b[1;32m    258\u001b[0m             \u001b[39mself\u001b[39m\u001b[39m.\u001b[39m_sample,\n\u001b[1;32m    259\u001b[0m         )\n\u001b[1;32m    260\u001b[0m     \u001b[39mreturn\u001b[39;00m \u001b[39mself\u001b[39m\u001b[39m.\u001b[39m_description_set\n",
      "File \u001b[0;32m~/miniconda3/envs/ocean_env/lib/python3.8/site-packages/ydata_profiling/model/describe.py:130\u001b[0m, in \u001b[0;36mdescribe\u001b[0;34m(config, df, summarizer, typeset, sample)\u001b[0m\n\u001b[1;32m    126\u001b[0m scatter_matrix: Dict[Any, Dict[Any, Any]] \u001b[39m=\u001b[39m {\n\u001b[1;32m    127\u001b[0m     x: {y: \u001b[39mNone\u001b[39;00m} \u001b[39mfor\u001b[39;00m x, y \u001b[39min\u001b[39;00m scatter_tasks\n\u001b[1;32m    128\u001b[0m }\n\u001b[1;32m    129\u001b[0m \u001b[39mfor\u001b[39;00m x, y \u001b[39min\u001b[39;00m scatter_tasks:\n\u001b[0;32m--> 130\u001b[0m     scatter_matrix[x][y] \u001b[39m=\u001b[39m progress(\n\u001b[1;32m    131\u001b[0m         get_scatter_plot, pbar, \u001b[39mf\u001b[39;49m\u001b[39m\"\u001b[39;49m\u001b[39mscatter \u001b[39;49m\u001b[39m{\u001b[39;49;00mx\u001b[39m}\u001b[39;49;00m\u001b[39m, \u001b[39;49m\u001b[39m{\u001b[39;49;00my\u001b[39m}\u001b[39;49;00m\u001b[39m\"\u001b[39;49m\n\u001b[1;32m    132\u001b[0m     )(config, df, x, y, interval_columns)\n\u001b[1;32m    134\u001b[0m \u001b[39m# missing diagrams\u001b[39;00m\n\u001b[1;32m    135\u001b[0m missing_map \u001b[39m=\u001b[39m get_missing_active(config, table_stats)\n",
      "File \u001b[0;32m~/miniconda3/envs/ocean_env/lib/python3.8/site-packages/ydata_profiling/utils/progress_bar.py:11\u001b[0m, in \u001b[0;36mprogress.<locals>.inner\u001b[0;34m(*args, **kwargs)\u001b[0m\n\u001b[1;32m      8\u001b[0m \u001b[39m@wraps\u001b[39m(fn)\n\u001b[1;32m      9\u001b[0m \u001b[39mdef\u001b[39;00m \u001b[39minner\u001b[39m(\u001b[39m*\u001b[39margs, \u001b[39m*\u001b[39m\u001b[39m*\u001b[39mkwargs) \u001b[39m-\u001b[39m\u001b[39m>\u001b[39m Any:\n\u001b[1;32m     10\u001b[0m     bar\u001b[39m.\u001b[39mset_postfix_str(message)\n\u001b[0;32m---> 11\u001b[0m     ret \u001b[39m=\u001b[39m fn(\u001b[39m*\u001b[39;49margs, \u001b[39m*\u001b[39;49m\u001b[39m*\u001b[39;49mkwargs)\n\u001b[1;32m     12\u001b[0m     bar\u001b[39m.\u001b[39mupdate()\n\u001b[1;32m     13\u001b[0m     \u001b[39mreturn\u001b[39;00m ret\n",
      "File \u001b[0;32m~/miniconda3/envs/ocean_env/lib/python3.8/site-packages/ydata_profiling/model/pairwise.py:31\u001b[0m, in \u001b[0;36mget_scatter_plot\u001b[0;34m(config, df, x, y, continuous_variables)\u001b[0m\n\u001b[1;32m     29\u001b[0m     \u001b[39melse\u001b[39;00m:\n\u001b[1;32m     30\u001b[0m         df_temp \u001b[39m=\u001b[39m df[[x, y]]\u001b[39m.\u001b[39mdropna()\n\u001b[0;32m---> 31\u001b[0m     \u001b[39mreturn\u001b[39;00m scatter_pairwise(config, df_temp[x], df_temp[y], x, y)\n\u001b[1;32m     32\u001b[0m \u001b[39melse\u001b[39;00m:\n\u001b[1;32m     33\u001b[0m     \u001b[39mreturn\u001b[39;00m \u001b[39m\"\u001b[39m\u001b[39m\"\u001b[39m\n",
      "File \u001b[0;32m~/miniconda3/envs/ocean_env/lib/python3.8/contextlib.py:75\u001b[0m, in \u001b[0;36mContextDecorator.__call__.<locals>.inner\u001b[0;34m(*args, **kwds)\u001b[0m\n\u001b[1;32m     72\u001b[0m \u001b[39m@wraps\u001b[39m(func)\n\u001b[1;32m     73\u001b[0m \u001b[39mdef\u001b[39;00m \u001b[39minner\u001b[39m(\u001b[39m*\u001b[39margs, \u001b[39m*\u001b[39m\u001b[39m*\u001b[39mkwds):\n\u001b[1;32m     74\u001b[0m     \u001b[39mwith\u001b[39;00m \u001b[39mself\u001b[39m\u001b[39m.\u001b[39m_recreate_cm():\n\u001b[0;32m---> 75\u001b[0m         \u001b[39mreturn\u001b[39;00m func(\u001b[39m*\u001b[39;49margs, \u001b[39m*\u001b[39;49m\u001b[39m*\u001b[39;49mkwds)\n",
      "File \u001b[0;32m~/miniconda3/envs/ocean_env/lib/python3.8/site-packages/ydata_profiling/visualisation/plot.py:367\u001b[0m, in \u001b[0;36mscatter_pairwise\u001b[0;34m(config, series1, series2, x_label, y_label)\u001b[0m\n\u001b[1;32m    365\u001b[0m \u001b[39melse\u001b[39;00m:\n\u001b[1;32m    366\u001b[0m     plt\u001b[39m.\u001b[39mscatter(series1[indices], series2[indices], color\u001b[39m=\u001b[39mcolor)\n\u001b[0;32m--> 367\u001b[0m \u001b[39mreturn\u001b[39;00m plot_360_n0sc0pe(config)\n",
      "File \u001b[0;32m~/miniconda3/envs/ocean_env/lib/python3.8/site-packages/ydata_profiling/visualisation/utils.py:73\u001b[0m, in \u001b[0;36mplot_360_n0sc0pe\u001b[0;34m(config, image_format, bbox_extra_artists, bbox_inches)\u001b[0m\n\u001b[1;32m     70\u001b[0m \u001b[39mif\u001b[39;00m image_format \u001b[39m==\u001b[39m \u001b[39m\"\u001b[39m\u001b[39msvg\u001b[39m\u001b[39m\"\u001b[39m:\n\u001b[1;32m     71\u001b[0m     image_str \u001b[39m=\u001b[39m StringIO()\n\u001b[0;32m---> 73\u001b[0m     plt\u001b[39m.\u001b[39;49msavefig(\n\u001b[1;32m     74\u001b[0m         image_str,\n\u001b[1;32m     75\u001b[0m         \u001b[39mformat\u001b[39;49m\u001b[39m=\u001b[39;49mimage_format,\n\u001b[1;32m     76\u001b[0m         bbox_extra_artists\u001b[39m=\u001b[39;49mbbox_extra_artists,\n\u001b[1;32m     77\u001b[0m         bbox_inches\u001b[39m=\u001b[39;49mbbox_inches,\n\u001b[1;32m     78\u001b[0m     )\n\u001b[1;32m     79\u001b[0m     plt\u001b[39m.\u001b[39mclose()\n\u001b[1;32m     80\u001b[0m     result_string \u001b[39m=\u001b[39m image_str\u001b[39m.\u001b[39mgetvalue()\n",
      "File \u001b[0;32m~/miniconda3/envs/ocean_env/lib/python3.8/site-packages/matplotlib/pyplot.py:943\u001b[0m, in \u001b[0;36msavefig\u001b[0;34m(*args, **kwargs)\u001b[0m\n\u001b[1;32m    941\u001b[0m fig \u001b[39m=\u001b[39m gcf()\n\u001b[1;32m    942\u001b[0m res \u001b[39m=\u001b[39m fig\u001b[39m.\u001b[39msavefig(\u001b[39m*\u001b[39margs, \u001b[39m*\u001b[39m\u001b[39m*\u001b[39mkwargs)\n\u001b[0;32m--> 943\u001b[0m fig\u001b[39m.\u001b[39;49mcanvas\u001b[39m.\u001b[39;49mdraw_idle()  \u001b[39m# Need this if 'transparent=True', to reset colors.\u001b[39;00m\n\u001b[1;32m    944\u001b[0m \u001b[39mreturn\u001b[39;00m res\n",
      "File \u001b[0;32m~/miniconda3/envs/ocean_env/lib/python3.8/site-packages/matplotlib/backend_bases.py:2054\u001b[0m, in \u001b[0;36mFigureCanvasBase.draw_idle\u001b[0;34m(self, *args, **kwargs)\u001b[0m\n\u001b[1;32m   2052\u001b[0m \u001b[39mif\u001b[39;00m \u001b[39mnot\u001b[39;00m \u001b[39mself\u001b[39m\u001b[39m.\u001b[39m_is_idle_drawing:\n\u001b[1;32m   2053\u001b[0m     \u001b[39mwith\u001b[39;00m \u001b[39mself\u001b[39m\u001b[39m.\u001b[39m_idle_draw_cntx():\n\u001b[0;32m-> 2054\u001b[0m         \u001b[39mself\u001b[39;49m\u001b[39m.\u001b[39;49mdraw(\u001b[39m*\u001b[39;49margs, \u001b[39m*\u001b[39;49m\u001b[39m*\u001b[39;49mkwargs)\n",
      "File \u001b[0;32m~/miniconda3/envs/ocean_env/lib/python3.8/site-packages/matplotlib/backends/backend_agg.py:408\u001b[0m, in \u001b[0;36mFigureCanvasAgg.draw\u001b[0;34m(self)\u001b[0m\n\u001b[1;32m    404\u001b[0m \u001b[39m# Acquire a lock on the shared font cache.\u001b[39;00m\n\u001b[1;32m    405\u001b[0m \u001b[39mwith\u001b[39;00m RendererAgg\u001b[39m.\u001b[39mlock, \\\n\u001b[1;32m    406\u001b[0m      (\u001b[39mself\u001b[39m\u001b[39m.\u001b[39mtoolbar\u001b[39m.\u001b[39m_wait_cursor_for_draw_cm() \u001b[39mif\u001b[39;00m \u001b[39mself\u001b[39m\u001b[39m.\u001b[39mtoolbar\n\u001b[1;32m    407\u001b[0m       \u001b[39melse\u001b[39;00m nullcontext()):\n\u001b[0;32m--> 408\u001b[0m     \u001b[39mself\u001b[39;49m\u001b[39m.\u001b[39;49mfigure\u001b[39m.\u001b[39;49mdraw(\u001b[39mself\u001b[39;49m\u001b[39m.\u001b[39;49mrenderer)\n\u001b[1;32m    409\u001b[0m     \u001b[39m# A GUI class may be need to update a window using this draw, so\u001b[39;00m\n\u001b[1;32m    410\u001b[0m     \u001b[39m# don't forget to call the superclass.\u001b[39;00m\n\u001b[1;32m    411\u001b[0m     \u001b[39msuper\u001b[39m()\u001b[39m.\u001b[39mdraw()\n",
      "File \u001b[0;32m~/miniconda3/envs/ocean_env/lib/python3.8/site-packages/matplotlib/artist.py:74\u001b[0m, in \u001b[0;36m_finalize_rasterization.<locals>.draw_wrapper\u001b[0;34m(artist, renderer, *args, **kwargs)\u001b[0m\n\u001b[1;32m     72\u001b[0m \u001b[39m@wraps\u001b[39m(draw)\n\u001b[1;32m     73\u001b[0m \u001b[39mdef\u001b[39;00m \u001b[39mdraw_wrapper\u001b[39m(artist, renderer, \u001b[39m*\u001b[39margs, \u001b[39m*\u001b[39m\u001b[39m*\u001b[39mkwargs):\n\u001b[0;32m---> 74\u001b[0m     result \u001b[39m=\u001b[39m draw(artist, renderer, \u001b[39m*\u001b[39;49margs, \u001b[39m*\u001b[39;49m\u001b[39m*\u001b[39;49mkwargs)\n\u001b[1;32m     75\u001b[0m     \u001b[39mif\u001b[39;00m renderer\u001b[39m.\u001b[39m_rasterizing:\n\u001b[1;32m     76\u001b[0m         renderer\u001b[39m.\u001b[39mstop_rasterizing()\n",
      "File \u001b[0;32m~/miniconda3/envs/ocean_env/lib/python3.8/site-packages/matplotlib/artist.py:51\u001b[0m, in \u001b[0;36mallow_rasterization.<locals>.draw_wrapper\u001b[0;34m(artist, renderer)\u001b[0m\n\u001b[1;32m     48\u001b[0m     \u001b[39mif\u001b[39;00m artist\u001b[39m.\u001b[39mget_agg_filter() \u001b[39mis\u001b[39;00m \u001b[39mnot\u001b[39;00m \u001b[39mNone\u001b[39;00m:\n\u001b[1;32m     49\u001b[0m         renderer\u001b[39m.\u001b[39mstart_filter()\n\u001b[0;32m---> 51\u001b[0m     \u001b[39mreturn\u001b[39;00m draw(artist, renderer)\n\u001b[1;32m     52\u001b[0m \u001b[39mfinally\u001b[39;00m:\n\u001b[1;32m     53\u001b[0m     \u001b[39mif\u001b[39;00m artist\u001b[39m.\u001b[39mget_agg_filter() \u001b[39mis\u001b[39;00m \u001b[39mnot\u001b[39;00m \u001b[39mNone\u001b[39;00m:\n",
      "File \u001b[0;32m~/miniconda3/envs/ocean_env/lib/python3.8/site-packages/matplotlib/figure.py:3069\u001b[0m, in \u001b[0;36mFigure.draw\u001b[0;34m(self, renderer)\u001b[0m\n\u001b[1;32m   3066\u001b[0m         \u001b[39m# ValueError can occur when resizing a window.\u001b[39;00m\n\u001b[1;32m   3068\u001b[0m \u001b[39mself\u001b[39m\u001b[39m.\u001b[39mpatch\u001b[39m.\u001b[39mdraw(renderer)\n\u001b[0;32m-> 3069\u001b[0m mimage\u001b[39m.\u001b[39;49m_draw_list_compositing_images(\n\u001b[1;32m   3070\u001b[0m     renderer, \u001b[39mself\u001b[39;49m, artists, \u001b[39mself\u001b[39;49m\u001b[39m.\u001b[39;49msuppressComposite)\n\u001b[1;32m   3072\u001b[0m \u001b[39mfor\u001b[39;00m sfig \u001b[39min\u001b[39;00m \u001b[39mself\u001b[39m\u001b[39m.\u001b[39msubfigs:\n\u001b[1;32m   3073\u001b[0m     sfig\u001b[39m.\u001b[39mdraw(renderer)\n",
      "File \u001b[0;32m~/miniconda3/envs/ocean_env/lib/python3.8/site-packages/matplotlib/image.py:131\u001b[0m, in \u001b[0;36m_draw_list_compositing_images\u001b[0;34m(renderer, parent, artists, suppress_composite)\u001b[0m\n\u001b[1;32m    129\u001b[0m \u001b[39mif\u001b[39;00m not_composite \u001b[39mor\u001b[39;00m \u001b[39mnot\u001b[39;00m has_images:\n\u001b[1;32m    130\u001b[0m     \u001b[39mfor\u001b[39;00m a \u001b[39min\u001b[39;00m artists:\n\u001b[0;32m--> 131\u001b[0m         a\u001b[39m.\u001b[39;49mdraw(renderer)\n\u001b[1;32m    132\u001b[0m \u001b[39melse\u001b[39;00m:\n\u001b[1;32m    133\u001b[0m     \u001b[39m# Composite any adjacent images together\u001b[39;00m\n\u001b[1;32m    134\u001b[0m     image_group \u001b[39m=\u001b[39m []\n",
      "File \u001b[0;32m~/miniconda3/envs/ocean_env/lib/python3.8/site-packages/matplotlib/artist.py:51\u001b[0m, in \u001b[0;36mallow_rasterization.<locals>.draw_wrapper\u001b[0;34m(artist, renderer)\u001b[0m\n\u001b[1;32m     48\u001b[0m     \u001b[39mif\u001b[39;00m artist\u001b[39m.\u001b[39mget_agg_filter() \u001b[39mis\u001b[39;00m \u001b[39mnot\u001b[39;00m \u001b[39mNone\u001b[39;00m:\n\u001b[1;32m     49\u001b[0m         renderer\u001b[39m.\u001b[39mstart_filter()\n\u001b[0;32m---> 51\u001b[0m     \u001b[39mreturn\u001b[39;00m draw(artist, renderer)\n\u001b[1;32m     52\u001b[0m \u001b[39mfinally\u001b[39;00m:\n\u001b[1;32m     53\u001b[0m     \u001b[39mif\u001b[39;00m artist\u001b[39m.\u001b[39mget_agg_filter() \u001b[39mis\u001b[39;00m \u001b[39mnot\u001b[39;00m \u001b[39mNone\u001b[39;00m:\n",
      "File \u001b[0;32m~/miniconda3/envs/ocean_env/lib/python3.8/site-packages/matplotlib/axes/_base.py:3106\u001b[0m, in \u001b[0;36m_AxesBase.draw\u001b[0;34m(self, renderer)\u001b[0m\n\u001b[1;32m   3103\u001b[0m         a\u001b[39m.\u001b[39mdraw(renderer)\n\u001b[1;32m   3104\u001b[0m     renderer\u001b[39m.\u001b[39mstop_rasterizing()\n\u001b[0;32m-> 3106\u001b[0m mimage\u001b[39m.\u001b[39;49m_draw_list_compositing_images(\n\u001b[1;32m   3107\u001b[0m     renderer, \u001b[39mself\u001b[39;49m, artists, \u001b[39mself\u001b[39;49m\u001b[39m.\u001b[39;49mfigure\u001b[39m.\u001b[39;49msuppressComposite)\n\u001b[1;32m   3109\u001b[0m renderer\u001b[39m.\u001b[39mclose_group(\u001b[39m'\u001b[39m\u001b[39maxes\u001b[39m\u001b[39m'\u001b[39m)\n\u001b[1;32m   3110\u001b[0m \u001b[39mself\u001b[39m\u001b[39m.\u001b[39mstale \u001b[39m=\u001b[39m \u001b[39mFalse\u001b[39;00m\n",
      "File \u001b[0;32m~/miniconda3/envs/ocean_env/lib/python3.8/site-packages/matplotlib/image.py:131\u001b[0m, in \u001b[0;36m_draw_list_compositing_images\u001b[0;34m(renderer, parent, artists, suppress_composite)\u001b[0m\n\u001b[1;32m    129\u001b[0m \u001b[39mif\u001b[39;00m not_composite \u001b[39mor\u001b[39;00m \u001b[39mnot\u001b[39;00m has_images:\n\u001b[1;32m    130\u001b[0m     \u001b[39mfor\u001b[39;00m a \u001b[39min\u001b[39;00m artists:\n\u001b[0;32m--> 131\u001b[0m         a\u001b[39m.\u001b[39;49mdraw(renderer)\n\u001b[1;32m    132\u001b[0m \u001b[39melse\u001b[39;00m:\n\u001b[1;32m    133\u001b[0m     \u001b[39m# Composite any adjacent images together\u001b[39;00m\n\u001b[1;32m    134\u001b[0m     image_group \u001b[39m=\u001b[39m []\n",
      "File \u001b[0;32m~/miniconda3/envs/ocean_env/lib/python3.8/site-packages/matplotlib/artist.py:51\u001b[0m, in \u001b[0;36mallow_rasterization.<locals>.draw_wrapper\u001b[0;34m(artist, renderer)\u001b[0m\n\u001b[1;32m     48\u001b[0m     \u001b[39mif\u001b[39;00m artist\u001b[39m.\u001b[39mget_agg_filter() \u001b[39mis\u001b[39;00m \u001b[39mnot\u001b[39;00m \u001b[39mNone\u001b[39;00m:\n\u001b[1;32m     49\u001b[0m         renderer\u001b[39m.\u001b[39mstart_filter()\n\u001b[0;32m---> 51\u001b[0m     \u001b[39mreturn\u001b[39;00m draw(artist, renderer)\n\u001b[1;32m     52\u001b[0m \u001b[39mfinally\u001b[39;00m:\n\u001b[1;32m     53\u001b[0m     \u001b[39mif\u001b[39;00m artist\u001b[39m.\u001b[39mget_agg_filter() \u001b[39mis\u001b[39;00m \u001b[39mnot\u001b[39;00m \u001b[39mNone\u001b[39;00m:\n",
      "File \u001b[0;32m~/miniconda3/envs/ocean_env/lib/python3.8/site-packages/matplotlib/axis.py:1305\u001b[0m, in \u001b[0;36mAxis.draw\u001b[0;34m(self, renderer, *args, **kwargs)\u001b[0m\n\u001b[1;32m   1302\u001b[0m renderer\u001b[39m.\u001b[39mopen_group(\u001b[39m__name__\u001b[39m, gid\u001b[39m=\u001b[39m\u001b[39mself\u001b[39m\u001b[39m.\u001b[39mget_gid())\n\u001b[1;32m   1304\u001b[0m ticks_to_draw \u001b[39m=\u001b[39m \u001b[39mself\u001b[39m\u001b[39m.\u001b[39m_update_ticks()\n\u001b[0;32m-> 1305\u001b[0m tlb1, tlb2 \u001b[39m=\u001b[39m \u001b[39mself\u001b[39;49m\u001b[39m.\u001b[39;49m_get_ticklabel_bboxes(ticks_to_draw, renderer)\n\u001b[1;32m   1307\u001b[0m \u001b[39mfor\u001b[39;00m tick \u001b[39min\u001b[39;00m ticks_to_draw:\n\u001b[1;32m   1308\u001b[0m     tick\u001b[39m.\u001b[39mdraw(renderer)\n",
      "File \u001b[0;32m~/miniconda3/envs/ocean_env/lib/python3.8/site-packages/matplotlib/axis.py:1232\u001b[0m, in \u001b[0;36mAxis._get_ticklabel_bboxes\u001b[0;34m(self, ticks, renderer)\u001b[0m\n\u001b[1;32m   1230\u001b[0m \u001b[39mif\u001b[39;00m renderer \u001b[39mis\u001b[39;00m \u001b[39mNone\u001b[39;00m:\n\u001b[1;32m   1231\u001b[0m     renderer \u001b[39m=\u001b[39m \u001b[39mself\u001b[39m\u001b[39m.\u001b[39mfigure\u001b[39m.\u001b[39m_get_renderer()\n\u001b[0;32m-> 1232\u001b[0m \u001b[39mreturn\u001b[39;00m ([tick\u001b[39m.\u001b[39mlabel1\u001b[39m.\u001b[39mget_window_extent(renderer)\n\u001b[1;32m   1233\u001b[0m          \u001b[39mfor\u001b[39;00m tick \u001b[39min\u001b[39;00m ticks \u001b[39mif\u001b[39;00m tick\u001b[39m.\u001b[39mlabel1\u001b[39m.\u001b[39mget_visible()],\n\u001b[1;32m   1234\u001b[0m         [tick\u001b[39m.\u001b[39mlabel2\u001b[39m.\u001b[39mget_window_extent(renderer)\n\u001b[1;32m   1235\u001b[0m          \u001b[39mfor\u001b[39;00m tick \u001b[39min\u001b[39;00m ticks \u001b[39mif\u001b[39;00m tick\u001b[39m.\u001b[39mlabel2\u001b[39m.\u001b[39mget_visible()])\n",
      "File \u001b[0;32m~/miniconda3/envs/ocean_env/lib/python3.8/site-packages/matplotlib/axis.py:1232\u001b[0m, in \u001b[0;36m<listcomp>\u001b[0;34m(.0)\u001b[0m\n\u001b[1;32m   1230\u001b[0m \u001b[39mif\u001b[39;00m renderer \u001b[39mis\u001b[39;00m \u001b[39mNone\u001b[39;00m:\n\u001b[1;32m   1231\u001b[0m     renderer \u001b[39m=\u001b[39m \u001b[39mself\u001b[39m\u001b[39m.\u001b[39mfigure\u001b[39m.\u001b[39m_get_renderer()\n\u001b[0;32m-> 1232\u001b[0m \u001b[39mreturn\u001b[39;00m ([tick\u001b[39m.\u001b[39;49mlabel1\u001b[39m.\u001b[39;49mget_window_extent(renderer)\n\u001b[1;32m   1233\u001b[0m          \u001b[39mfor\u001b[39;00m tick \u001b[39min\u001b[39;00m ticks \u001b[39mif\u001b[39;00m tick\u001b[39m.\u001b[39mlabel1\u001b[39m.\u001b[39mget_visible()],\n\u001b[1;32m   1234\u001b[0m         [tick\u001b[39m.\u001b[39mlabel2\u001b[39m.\u001b[39mget_window_extent(renderer)\n\u001b[1;32m   1235\u001b[0m          \u001b[39mfor\u001b[39;00m tick \u001b[39min\u001b[39;00m ticks \u001b[39mif\u001b[39;00m tick\u001b[39m.\u001b[39mlabel2\u001b[39m.\u001b[39mget_visible()])\n",
      "File \u001b[0;32m~/miniconda3/envs/ocean_env/lib/python3.8/site-packages/matplotlib/text.py:918\u001b[0m, in \u001b[0;36mText.get_window_extent\u001b[0;34m(self, renderer, dpi)\u001b[0m\n\u001b[1;32m    916\u001b[0m bbox, info, descent \u001b[39m=\u001b[39m \u001b[39mself\u001b[39m\u001b[39m.\u001b[39m_get_layout(\u001b[39mself\u001b[39m\u001b[39m.\u001b[39m_renderer)\n\u001b[1;32m    917\u001b[0m x, y \u001b[39m=\u001b[39m \u001b[39mself\u001b[39m\u001b[39m.\u001b[39mget_unitless_position()\n\u001b[0;32m--> 918\u001b[0m x, y \u001b[39m=\u001b[39m \u001b[39mself\u001b[39;49m\u001b[39m.\u001b[39;49mget_transform()\u001b[39m.\u001b[39;49mtransform((x, y))\n\u001b[1;32m    919\u001b[0m bbox \u001b[39m=\u001b[39m bbox\u001b[39m.\u001b[39mtranslated(x, y)\n\u001b[1;32m    920\u001b[0m \u001b[39mreturn\u001b[39;00m bbox\n",
      "File \u001b[0;32m~/miniconda3/envs/ocean_env/lib/python3.8/site-packages/matplotlib/transforms.py:1490\u001b[0m, in \u001b[0;36mTransform.transform\u001b[0;34m(self, values)\u001b[0m\n\u001b[1;32m   1487\u001b[0m values \u001b[39m=\u001b[39m values\u001b[39m.\u001b[39mreshape((\u001b[39m-\u001b[39m\u001b[39m1\u001b[39m, \u001b[39mself\u001b[39m\u001b[39m.\u001b[39minput_dims))\n\u001b[1;32m   1489\u001b[0m \u001b[39m# Transform the values\u001b[39;00m\n\u001b[0;32m-> 1490\u001b[0m res \u001b[39m=\u001b[39m \u001b[39mself\u001b[39;49m\u001b[39m.\u001b[39;49mtransform_affine(\u001b[39mself\u001b[39;49m\u001b[39m.\u001b[39;49mtransform_non_affine(values))\n\u001b[1;32m   1492\u001b[0m \u001b[39m# Convert the result back to the shape of the input values.\u001b[39;00m\n\u001b[1;32m   1493\u001b[0m \u001b[39mif\u001b[39;00m ndim \u001b[39m==\u001b[39m \u001b[39m0\u001b[39m:\n",
      "File \u001b[0;32m~/miniconda3/envs/ocean_env/lib/python3.8/site-packages/matplotlib/transforms.py:2420\u001b[0m, in \u001b[0;36mCompositeGenericTransform.transform_affine\u001b[0;34m(self, points)\u001b[0m\n\u001b[1;32m   2418\u001b[0m \u001b[39mdef\u001b[39;00m \u001b[39mtransform_affine\u001b[39m(\u001b[39mself\u001b[39m, points):\n\u001b[1;32m   2419\u001b[0m     \u001b[39m# docstring inherited\u001b[39;00m\n\u001b[0;32m-> 2420\u001b[0m     \u001b[39mreturn\u001b[39;00m \u001b[39mself\u001b[39;49m\u001b[39m.\u001b[39;49mget_affine()\u001b[39m.\u001b[39mtransform(points)\n",
      "File \u001b[0;32m~/miniconda3/envs/ocean_env/lib/python3.8/site-packages/matplotlib/transforms.py:2446\u001b[0m, in \u001b[0;36mCompositeGenericTransform.get_affine\u001b[0;34m(self)\u001b[0m\n\u001b[1;32m   2444\u001b[0m     \u001b[39mreturn\u001b[39;00m \u001b[39mself\u001b[39m\u001b[39m.\u001b[39m_b\u001b[39m.\u001b[39mget_affine()\n\u001b[1;32m   2445\u001b[0m \u001b[39melse\u001b[39;00m:\n\u001b[0;32m-> 2446\u001b[0m     \u001b[39mreturn\u001b[39;00m Affine2D(np\u001b[39m.\u001b[39;49mdot(\u001b[39mself\u001b[39;49m\u001b[39m.\u001b[39;49m_b\u001b[39m.\u001b[39;49mget_affine()\u001b[39m.\u001b[39;49mget_matrix(),\n\u001b[1;32m   2447\u001b[0m                            \u001b[39mself\u001b[39;49m\u001b[39m.\u001b[39;49m_a\u001b[39m.\u001b[39;49mget_affine()\u001b[39m.\u001b[39;49mget_matrix()))\n",
      "File \u001b[0;32m<__array_function__ internals>:200\u001b[0m, in \u001b[0;36mdot\u001b[0;34m(*args, **kwargs)\u001b[0m\n",
      "\u001b[0;31mKeyboardInterrupt\u001b[0m: "
     ]
    }
   ],
   "source": [
    "# 1. PostgreSQL에서 테이블 리스트 가져오기\n",
    "# 작업 디렉토리 찾기\n",
    "work_dir = DirectoryHandler.find_directory(\n",
    "    start_path=os.getcwd(),\n",
    "    target_directory_name='online_mall'\n",
    ")\n",
    "config_path = f'{work_dir}/private_configs.yaml'\n",
    "\n",
    "# PostgreSQL 연결\n",
    "postgre = PostgreSQL(config_file_path=config_path, request_url='local_postgre')\n",
    "postgre.connect()\n",
    "\n",
    "# 스키마 'online_mall'에서 테이블 목록 가져오는 쿼리\n",
    "\n",
    "# 스키마 'online_mall'에서 테이블 목록 가져오는 쿼리\n",
    "query = \"\"\"\n",
    "    select tablename\n",
    "    from pg_catalog.pg_tables\n",
    "    where schemaname = 'online_mall' and tablename in ('payment_log');\n",
    "\"\"\"\n",
    "\n",
    "table_list = postgre.read_data(query)\n",
    "\n",
    "output_dir = \"/Users/home/Desktop/file/online_mall/data/docs/report\"\n",
    "\n",
    "# 2. 각 테이블에 대해 프로파일링 리포트 생성 및 저장\n",
    "for table_name in table_list['tablename']:\n",
    "    print(f'{table_name} is running')\n",
    "    # 테이블 데이터 가져오기\n",
    "    data_query = f\"SELECT * FROM online_mall.{table_name};\"\n",
    "    df = postgre.read_data(data_query)\n",
    "\n",
    "    # 3. 프로파일링 리포트 생성\n",
    "    profile = ProfileReport(df, title=f\"{table_name} Profiling Report\", explorative=True, progress_bar=True)\n",
    "\n",
    "    # 4. HTML 파일로 저장\n",
    "    profile.to_file(f\"{output_dir}/{table_name}_profiling_report.html\")\n",
    "\n",
    "# PostgreSQL 연결 종료\n",
    "postgre.close()\n"
   ]
  },
  {
   "cell_type": "code",
   "execution_count": 12,
   "metadata": {},
   "outputs": [
    {
     "data": {
      "text/html": [
       "<div>\n",
       "<style scoped>\n",
       "    .dataframe tbody tr th:only-of-type {\n",
       "        vertical-align: middle;\n",
       "    }\n",
       "\n",
       "    .dataframe tbody tr th {\n",
       "        vertical-align: top;\n",
       "    }\n",
       "\n",
       "    .dataframe thead th {\n",
       "        text-align: right;\n",
       "    }\n",
       "</style>\n",
       "<table border=\"1\" class=\"dataframe\">\n",
       "  <thead>\n",
       "    <tr style=\"text-align: right;\">\n",
       "      <th></th>\n",
       "      <th>member_code</th>\n",
       "      <th>purchase_date</th>\n",
       "      <th>payment_number</th>\n",
       "      <th>delivery_district</th>\n",
       "      <th>amount</th>\n",
       "      <th>prepayment_used_amount</th>\n",
       "      <th>mileage_used_amount</th>\n",
       "      <th>coupon_used</th>\n",
       "      <th>member_grade_at_purchase</th>\n",
       "      <th>access_type</th>\n",
       "    </tr>\n",
       "  </thead>\n",
       "  <tbody>\n",
       "    <tr>\n",
       "      <th>0</th>\n",
       "      <td>317352014</td>\n",
       "      <td>2024-01-22</td>\n",
       "      <td>20240118191851</td>\n",
       "      <td>제주특별자치도 제주시</td>\n",
       "      <td>38520</td>\n",
       "      <td>32685</td>\n",
       "      <td>5835</td>\n",
       "      <td>Y</td>\n",
       "      <td>골드</td>\n",
       "      <td>모바일</td>\n",
       "    </tr>\n",
       "    <tr>\n",
       "      <th>1</th>\n",
       "      <td>317352014</td>\n",
       "      <td>2024-02-07</td>\n",
       "      <td>20240204170857</td>\n",
       "      <td>제주특별자치도 제주시</td>\n",
       "      <td>37420</td>\n",
       "      <td>32115</td>\n",
       "      <td>0</td>\n",
       "      <td>Y</td>\n",
       "      <td>골드</td>\n",
       "      <td>모바일</td>\n",
       "    </tr>\n",
       "    <tr>\n",
       "      <th>2</th>\n",
       "      <td>317352014</td>\n",
       "      <td>2024-03-04</td>\n",
       "      <td>20240301071300</td>\n",
       "      <td>제주특별자치도 제주시</td>\n",
       "      <td>45300</td>\n",
       "      <td>38605</td>\n",
       "      <td>0</td>\n",
       "      <td>Y</td>\n",
       "      <td>골드</td>\n",
       "      <td>모바일</td>\n",
       "    </tr>\n",
       "    <tr>\n",
       "      <th>3</th>\n",
       "      <td>317352014</td>\n",
       "      <td>2024-03-30</td>\n",
       "      <td>20240327184208</td>\n",
       "      <td>제주특별자치도 제주시</td>\n",
       "      <td>45300</td>\n",
       "      <td>3428</td>\n",
       "      <td>6</td>\n",
       "      <td>Y</td>\n",
       "      <td>골드</td>\n",
       "      <td>모바일</td>\n",
       "    </tr>\n",
       "    <tr>\n",
       "      <th>4</th>\n",
       "      <td>317352014</td>\n",
       "      <td>2024-04-11</td>\n",
       "      <td>20240408193021</td>\n",
       "      <td>제주특별자치도 제주시</td>\n",
       "      <td>50700</td>\n",
       "      <td>44700</td>\n",
       "      <td>0</td>\n",
       "      <td>Y</td>\n",
       "      <td>골드</td>\n",
       "      <td>모바일</td>\n",
       "    </tr>\n",
       "  </tbody>\n",
       "</table>\n",
       "</div>"
      ],
      "text/plain": [
       "  member_code purchase_date  payment_number delivery_district  amount  \\\n",
       "0   317352014    2024-01-22  20240118191851       제주특별자치도 제주시   38520   \n",
       "1   317352014    2024-02-07  20240204170857       제주특별자치도 제주시   37420   \n",
       "2   317352014    2024-03-04  20240301071300       제주특별자치도 제주시   45300   \n",
       "3   317352014    2024-03-30  20240327184208       제주특별자치도 제주시   45300   \n",
       "4   317352014    2024-04-11  20240408193021       제주특별자치도 제주시   50700   \n",
       "\n",
       "   prepayment_used_amount  mileage_used_amount coupon_used  \\\n",
       "0                   32685                 5835           Y   \n",
       "1                   32115                    0           Y   \n",
       "2                   38605                    0           Y   \n",
       "3                    3428                    6           Y   \n",
       "4                   44700                    0           Y   \n",
       "\n",
       "  member_grade_at_purchase access_type  \n",
       "0                       골드         모바일  \n",
       "1                       골드         모바일  \n",
       "2                       골드         모바일  \n",
       "3                       골드         모바일  \n",
       "4                       골드         모바일  "
      ]
     },
     "execution_count": 12,
     "metadata": {},
     "output_type": "execute_result"
    }
   ],
   "source": [
    "df.head()"
   ]
  },
  {
   "cell_type": "code",
   "execution_count": null,
   "metadata": {},
   "outputs": [],
   "source": []
  }
 ],
 "metadata": {
  "kernelspec": {
   "display_name": "Python 3.8.18 ('ocean_env')",
   "language": "python",
   "name": "python3"
  },
  "language_info": {
   "codemirror_mode": {
    "name": "ipython",
    "version": 3
   },
   "file_extension": ".py",
   "mimetype": "text/x-python",
   "name": "python",
   "nbconvert_exporter": "python",
   "pygments_lexer": "ipython3",
   "version": "3.8.18"
  },
  "orig_nbformat": 4,
  "vscode": {
   "interpreter": {
    "hash": "394468621a52d9be2d92eb7e0e869c00fb18978f4af859fb3a532aef22cc7d85"
   }
  }
 },
 "nbformat": 4,
 "nbformat_minor": 2
}
